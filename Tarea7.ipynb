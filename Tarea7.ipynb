{
 "cells": [
  {
   "cell_type": "markdown",
   "metadata": {},
   "source": [
    "<img style=\"float: left; margin: 30px 15px 15px 15px;\" src=\"https://pngimage.net/wp-content/uploads/2018/06/logo-iteso-png-5.png\" width=\"300\" height=\"500\" /> \n",
    "    \n",
    "    \n",
    "### <font color='navy'> Simulación de procesos financieros. \n",
    "\n",
    "**Nombres:** Roberto Chávez Guerrero, Esteban Marquez Delgado\n",
    "\n",
    "**Fecha:** 21 de octubre del 2021.\n",
    "\n",
    "**Expediente:** 714643 y 700637\n",
    "    \n",
    "**Profesor:** Oscar David Jaramillo Zuluaga.\n",
    "    \n",
    "**Link Github:** [Link con el enlace del repositorio del creador del proyecto](https://github.com/Robertochavezgue/Tarea7_Rchavez_EMarquez/blob/main/README.md)\n",
    "\n",
    "# Tarea 7"
   ]
  },
  {
   "cell_type": "markdown",
   "metadata": {},
   "source": [
    ">## <font color = 'red'> Ejercicio \n",
    ">1.Suponer que $T$ distribuye beta donde la media es $\\mu_p$ y varianza $\\sigma_p^2$ y responder cual es la probabilidad $P(T\\leq d)$.\n",
    "    ![imagen.png](attachment:imagen.png)\n",
    "\n",
    "> **Ayuda**: - Aprender a utlizar el solucionador de ecuaciones no lineales https://stackoverflow.com/questions/19843116/passing-arguments-to-fsolve\n",
    "- Leer el help de la función beta del paquete estadístico para aprender a graficar funciones beta en un intervalo diferente a 0 y 1.\n",
    "\n",
    ">2.Suponer que $T$ distribuye triangular donde el valor mas probable es $\\mu_p$ el valor pesimista es $p=49$ y el valor optimista es $o=40$ y responder cual es la probabilidad $P(T\\leq d)$. Nuevamente aprender a graficar una función triangular en un intervalro [a,b], usando el help.\n",
    "\n"
   ]
  },
  {
   "cell_type": "markdown",
   "metadata": {},
   "source": [
    "#### Código de solución `ESTUDIANTE 1: ROBERTO CHÁVEZ`"
   ]
  },
  {
   "cell_type": "code",
   "execution_count": 4,
   "metadata": {
    "ExecuteTime": {
     "end_time": "2021-10-22T07:52:57.545688Z",
     "start_time": "2021-10-22T07:52:57.214149Z"
    }
   },
   "outputs": [],
   "source": [
    "import matplotlib.pyplot as plt\n",
    "import numpy as np\n",
    "import pandas as pd\n",
    "import scipy.stats as st    \n",
    "%matplotlib inline\n",
    "from scipy.optimize import fsolve"
   ]
  },
  {
   "cell_type": "code",
   "execution_count": 5,
   "metadata": {
    "ExecuteTime": {
     "end_time": "2021-10-22T07:52:57.576611Z",
     "start_time": "2021-10-22T07:52:57.548723Z"
    }
   },
   "outputs": [
    {
     "data": {
      "text/plain": [
       "(0.5432098765426324, 0.6790123456783965)"
      ]
     },
     "execution_count": 5,
     "metadata": {},
     "output_type": "execute_result"
    }
   ],
   "source": [
    "def f1(p):\n",
    "    alfa,beta=p\n",
    "    return ((40*beta+49*alfa)/(alfa+beta)-44, (alfa*beta*(49-40)**2)/((alfa+beta)**2*(1+alfa+beta))-9)\n",
    "\n",
    "alfa,beta = fsolve(f1, (44,9))\n",
    "(40*beta+49*alfa)/(alfa+beta)-44, (alfa*beta*(49-40)**2)/((alfa+beta)**2*(1+alfa+beta))-9\n",
    "alfa,beta"
   ]
  },
  {
   "cell_type": "code",
   "execution_count": 6,
   "metadata": {
    "ExecuteTime": {
     "end_time": "2021-10-22T07:52:58.110242Z",
     "start_time": "2021-10-22T07:52:57.773169Z"
    }
   },
   "outputs": [
    {
     "data": {
      "image/png": "[encoded data removed]",
      "text/plain": [
       "<Figure size 1080x288 with 2 Axes>"
      ]
     },
     "metadata": {
      "needs_background": "light"
     },
     "output_type": "display_data"
    }
   ],
   "source": [
    "a=alfa\n",
    "b=beta\n",
    "x = np.linspace(40,49,100)\n",
    "r = st.beta.pdf(x,a,b,loc=40,scale=9)\n",
    "r_acum = st.beta.cdf(x,a,b,loc=40,scale=9)\n",
    "fig,(ax1,ax2) = plt.subplots(1,2)\n",
    "fig.set_figwidth(15)\n",
    "ax1.plot(x,r,'o',markersize=3)\n",
    "ax1.set_title('Densidad de probabilidad')\n",
    "ax2.plot(x,r_acum,'o',markersize=3)\n",
    "ax2.set_title('Distribución acumulada')\n",
    "plt.show()"
   ]
  },
  {
   "cell_type": "markdown",
   "metadata": {},
   "source": [
    "probabilidad $P(T\\leq d)$.d = (40,49,10)"
   ]
  },
  {
   "cell_type": "code",
   "execution_count": 7,
   "metadata": {
    "ExecuteTime": {
     "end_time": "2021-10-22T07:52:58.156748Z",
     "start_time": "2021-10-22T07:52:58.147772Z"
    }
   },
   "outputs": [],
   "source": [
    "d = np.linspace(40,49,10)"
   ]
  },
  {
   "cell_type": "code",
   "execution_count": 8,
   "metadata": {
    "ExecuteTime": {
     "end_time": "2021-10-22T07:52:58.565572Z",
     "start_time": "2021-10-22T07:52:58.549614Z"
    }
   },
   "outputs": [
    {
     "data": {
      "text/plain": [
       "array([0.        , 0.23675261, 0.34994198, 0.44304984, 0.52712816,\n",
       "       0.60702857, 0.68606222, 0.76772519, 0.85828336, 1.        ])"
      ]
     },
     "execution_count": 8,
     "metadata": {},
     "output_type": "execute_result"
    }
   ],
   "source": [
    "st.beta.cdf(d,a,b,loc=40,scale=9)"
   ]
  },
  {
   "cell_type": "markdown",
   "metadata": {},
   "source": [
    "DISTRIBUCIÓN TRIANGULAR "
   ]
  },
  {
   "cell_type": "code",
   "execution_count": 9,
   "metadata": {
    "ExecuteTime": {
     "end_time": "2021-10-22T07:52:59.611773Z",
     "start_time": "2021-10-22T07:52:59.324578Z"
    }
   },
   "outputs": [
    {
     "data": {
      "image/png": "[encoded data removed]",
      "text/plain": [
       "<Figure size 1080x288 with 2 Axes>"
      ]
     },
     "metadata": {
      "needs_background": "light"
     },
     "output_type": "display_data"
    }
   ],
   "source": [
    "c = .44\n",
    "x = np.linspace(40,49,100)\n",
    "r = st.triang.pdf(x,c,loc=40,scale=9)\n",
    "r_acum = st.triang.cdf(x,c,loc=40,scale=9)\n",
    "# Graficamos\n",
    "fig,(ax1,ax2) = plt.subplots(1,2)\n",
    "fig.set_figwidth(15)\n",
    "ax1.plot(x,r,'o',markersize=3)\n",
    "ax1.set_title('Densidad de probabilidad')\n",
    "ax2.plot(x,r_acum,'o',markersize=3)\n",
    "ax2.set_title('Distribución acumulada')\n",
    "plt.show()"
   ]
  },
  {
   "cell_type": "markdown",
   "metadata": {},
   "source": [
    "Probabilidad de que $P(T\\leq d)$."
   ]
  },
  {
   "cell_type": "code",
   "execution_count": 10,
   "metadata": {
    "ExecuteTime": {
     "end_time": "2021-10-22T07:53:00.383716Z",
     "start_time": "2021-10-22T07:53:00.366761Z"
    }
   },
   "outputs": [
    {
     "data": {
      "text/plain": [
       "array([0.        , 0.02805836, 0.11223345, 0.25252525, 0.44885362,\n",
       "       0.64726631, 0.8015873 , 0.91181658, 0.97795414, 1.        ])"
      ]
     },
     "execution_count": 10,
     "metadata": {},
     "output_type": "execute_result"
    }
   ],
   "source": [
    "d = np.linspace(40,49,10)\n",
    "st.triang.cdf(d,c,loc=40,scale=9)"
   ]
  },
  {
   "cell_type": "markdown",
   "metadata": {},
   "source": [
    "# Tarea 7\n",
    "\n",
    "Aproxime el valor de la siguiente integral usando el método monte carlo crudo y método de reducción de varianza de muestreo estratíficado\n",
    "\n",
    "$$I=\\int_{0}^{1}x^2\\text{d}x=\\left.\\frac{x^3}{3}\\right|_{x=0}^{x=1}=\\frac{1}{3}\\approx 0.33333$$\n",
    "\n",
    "Pasos\n",
    "1. Cree una función que realice el método de muestreo estratíficado, recibiendo como único parámetro de entrada la cantidad de estratos y retornando las variables estratíficadas correspondientes.\n",
    "2. Reporte los resultados de la aproximación de la integral usando montecarlo crudo y muestreo estratíficado, en un Dataframe."
   ]
  },
  {
   "cell_type": "code",
   "execution_count": 42,
   "metadata": {
    "ExecuteTime": {
     "end_time": "2021-10-22T11:24:13.411745Z",
     "start_time": "2021-10-22T11:24:13.393826Z"
    }
   },
   "outputs": [],
   "source": [
    "# Código de solución \n",
    "#Función de integración montecarlo per se, a partir de valores aleatorios.\n",
    "def int_montecarlo(f:'Función a integrar',\n",
    "                   a:'Límite inferior de la integral',\n",
    "                   b:'Límite superior de la integral',\n",
    "                   U:'Muestra de números U~[a,b]'):\n",
    "    return (b-a)/len(U)*np.sum(f(U))\n",
    "\n",
    "def estratificación(B: 'N estratos a crear'):\n",
    "    '''Función que recibe y crea N número de estratos para el método de estratificación: \n",
    "    Divide la población en estratos y se genera en cada uno un número de observaciones\n",
    "    proporcional a su tamaño (a la probabilidad de cada uno) para así asegurarnos que\n",
    "    se cubre el dominio y se acelere la convergencia.\n",
    "   '''\n",
    "    u= np.random.uniform(a,b,B) #generar B valores aleatorios con distribución uniforme en el intervalo [a,b]\n",
    "    i=np.arange(0,B) # variable iterable sobre los n estratos creados\n",
    "    v = (u+i)/B #estratificación\n",
    "    return v"
   ]
  },
  {
   "cell_type": "code",
   "execution_count": 45,
   "metadata": {
    "ExecuteTime": {
     "end_time": "2021-10-22T11:24:39.327818Z",
     "start_time": "2021-10-22T11:24:38.852644Z"
    }
   },
   "outputs": [
    {
     "data": {
      "text/html": [
       "<div>\n",
       "<style scoped>\n",
       "    .dataframe tbody tr th:only-of-type {\n",
       "        vertical-align: middle;\n",
       "    }\n",
       "\n",
       "    .dataframe tbody tr th {\n",
       "        vertical-align: top;\n",
       "    }\n",
       "\n",
       "    .dataframe thead th {\n",
       "        text-align: right;\n",
       "    }\n",
       "</style>\n",
       "<table border=\"1\" class=\"dataframe\">\n",
       "  <thead>\n",
       "    <tr style=\"text-align: right;\">\n",
       "      <th></th>\n",
       "      <th>Montecarlo crudo</th>\n",
       "      <th>Error_relativo MC %</th>\n",
       "      <th>Muestreo estratificado</th>\n",
       "      <th>Error_relativo M_est %</th>\n",
       "    </tr>\n",
       "    <tr>\n",
       "      <th>Términos</th>\n",
       "      <th></th>\n",
       "      <th></th>\n",
       "      <th></th>\n",
       "      <th></th>\n",
       "    </tr>\n",
       "  </thead>\n",
       "  <tbody>\n",
       "    <tr>\n",
       "      <th>10</th>\n",
       "      <td>0.347793</td>\n",
       "      <td>4.337874</td>\n",
       "      <td>0.336033</td>\n",
       "      <td>8.098418e-01</td>\n",
       "    </tr>\n",
       "    <tr>\n",
       "      <th>100</th>\n",
       "      <td>0.357339</td>\n",
       "      <td>7.201707</td>\n",
       "      <td>0.333504</td>\n",
       "      <td>5.122552e-02</td>\n",
       "    </tr>\n",
       "    <tr>\n",
       "      <th>1000</th>\n",
       "      <td>0.337953</td>\n",
       "      <td>1.386016</td>\n",
       "      <td>0.333343</td>\n",
       "      <td>2.946842e-03</td>\n",
       "    </tr>\n",
       "    <tr>\n",
       "      <th>10000</th>\n",
       "      <td>0.334824</td>\n",
       "      <td>0.447347</td>\n",
       "      <td>0.333333</td>\n",
       "      <td>9.086327e-05</td>\n",
       "    </tr>\n",
       "    <tr>\n",
       "      <th>100000</th>\n",
       "      <td>0.333231</td>\n",
       "      <td>0.030580</td>\n",
       "      <td>0.333333</td>\n",
       "      <td>2.512735e-06</td>\n",
       "    </tr>\n",
       "    <tr>\n",
       "      <th>1000000</th>\n",
       "      <td>0.333736</td>\n",
       "      <td>0.120782</td>\n",
       "      <td>0.333333</td>\n",
       "      <td>5.250833e-09</td>\n",
       "    </tr>\n",
       "    <tr>\n",
       "      <th>10000000</th>\n",
       "      <td>0.333211</td>\n",
       "      <td>0.036627</td>\n",
       "      <td>0.333333</td>\n",
       "      <td>9.799161e-10</td>\n",
       "    </tr>\n",
       "  </tbody>\n",
       "</table>\n",
       "</div>"
      ],
      "text/plain": [
       "          Montecarlo crudo  Error_relativo MC %  Muestreo estratificado  \\\n",
       "Términos                                                                  \n",
       "10                0.347793             4.337874                0.336033   \n",
       "100               0.357339             7.201707                0.333504   \n",
       "1000              0.337953             1.386016                0.333343   \n",
       "10000             0.334824             0.447347                0.333333   \n",
       "100000            0.333231             0.030580                0.333333   \n",
       "1000000           0.333736             0.120782                0.333333   \n",
       "10000000          0.333211             0.036627                0.333333   \n",
       "\n",
       "          Error_relativo M_est %  \n",
       "Términos                          \n",
       "10                  8.098418e-01  \n",
       "100                 5.122552e-02  \n",
       "1000                2.946842e-03  \n",
       "10000               9.086327e-05  \n",
       "100000              2.512735e-06  \n",
       "1000000             5.250833e-09  \n",
       "10000000            9.799161e-10  "
      ]
     },
     "execution_count": 45,
     "metadata": {},
     "output_type": "execute_result"
    }
   ],
   "source": [
    "I = 1/3 # Resultado de la integral\n",
    "a,b = 0,1 #Intervalo de integración\n",
    "N = np.logspace(1,7,7,dtype=int) # N términos, en escala logarítmica (1, 10, 100, 1000, …, en vez de 0, 1, 2, 3) \n",
    "df_cv = pd.DataFrame(index=N,columns=['Montecarlo crudo', 'Error_relativo MC %', 'Muestreo estratificado',\n",
    "                                      'Error_relativo M_est %' ], dtype='float') # Creación de columnas de DataFrame\n",
    "df_cv.index.name = \"Términos\" #Nombrar índice de df.\n",
    "# Números aleatorios dependiente de la cantidad de términos N.\n",
    "u1 = list(map(lambda N:np.random.uniform(a,b,N),N)) #Números aleatorios para el método montecarlo.\n",
    "u2= list(map(estratificación, N)) #Números aleatorios para el método de estratificación.\n",
    "M= [int_montecarlo(lambda x:x**2, a, b, Y) for Y in u1] #Aplicación del método de MonteCarlo para los u1 números generados.\n",
    "EST= [int_montecarlo(lambda x:x**2, a, b, Y) for Y in u2] #Aplicación del método de MonteCarlo para las u2 variables estratificadas.\n",
    "df_cv.loc[N,\"Montecarlo crudo\"] = M #Método de MonteCarlo crudo en DataFrame sobre N términos.\n",
    "df_cv.loc[N,\"Error_relativo MC %\"] = np.abs(df_cv.loc[N,\"Montecarlo crudo\"]-I)*100/I #Error relativo del método montecarlo\n",
    "df_cv.loc[N,\"Muestreo estratificado\"] = EST #Método de Estratificación\n",
    "df_cv.loc[N,\"Error_relativo M_est %\"] = np.abs(df_cv.loc[N,\"Muestreo estratificado\"]-I)*100/I #Error relativo del método de estratificación\n",
    "df_cv"
   ]
  },
  {
   "cell_type": "markdown",
   "metadata": {},
   "source": [
    "Una muestra estratificada divide la población en estratos y genera un número de observaciones proporcional a su probabilidad \n",
    "de ocurrencia. De este modo, se cubre el dominio y aceleramos la convergencia a los resultados con mayor precisión.\n",
    "\n",
    "\n",
    "Por requerir de una menor cantidad de términos, este proceso tiene una menor carga computacional y eficienta procesos."
   ]
  },
  {
   "cell_type": "code",
   "execution_count": null,
   "metadata": {},
   "outputs": [],
   "source": []
  }
 ],
 "metadata": {
  "kernelspec": {
   "display_name": "Python 3",
   "language": "python",
   "name": "python3"
  },
  "language_info": {
   "codemirror_mode": {
    "name": "ipython",
    "version": 3
   },
   "file_extension": ".py",
   "mimetype": "text/x-python",
   "name": "python",
   "nbconvert_exporter": "python",
   "pygments_lexer": "ipython3",
   "version": "3.8.8"
  },
  "latex_envs": {
   "LaTeX_envs_menu_present": true,
   "autoclose": false,
   "autocomplete": true,
   "bibliofile": "biblio.bib",
   "cite_by": "apalike",
   "current_citInitial": 1,
   "eqLabelWithNumbers": true,
   "eqNumInitial": 1,
   "hotkeys": {
    "equation": "Ctrl-E",
    "itemize": "Ctrl-I"
   },
   "labels_anchors": false,
   "latex_user_defs": false,
   "report_style_numbering": false,
   "user_envs_cfg": false
  }
 },
 "nbformat": 4,
 "nbformat_minor": 4
}
