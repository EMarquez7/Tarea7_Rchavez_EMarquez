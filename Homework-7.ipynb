{
 "cells": [
  {
   "attachments": {},
   "cell_type": "markdown",
   "metadata": {},
   "source": [
    "### <font color='white'> Financial Processes Simulation Course <font>\n",
    "\n",
    "<img style=\"float: left; margin: 30px 15px 15px 15px;\" src=\"https://upload.wikimedia.org/wikipedia/commons/thumb/d/db/Logo_ITESO_normal.jpg/138px-Logo_ITESO_normal.jpg\" width=\"138\" height=\"240\" align-text=\"auto\" margin=\"auto\" />\n",
    "\n",
    "\n",
    "<font color = 'gray'> \n",
    "\n",
    "**Team:**\n",
    "1. [Roberto Chávez Guerrero](https://github.com/Robertochavezgue)<br>\n",
    "2. [Esteban Márquez Delgado](https://github.com/EstebanMqz)\n",
    "\n",
    "**Date:** October 21, 2021.\n",
    "\n",
    "**Professor:** [Oscar David Jaramillo Zuluaga](https://github.com/odjaramilloz)\n",
    "\n",
    "**Repository**: https://github.com/EstebanMqz/FPS-Hw7. \n",
    "<font>\n",
    "<br><br><br><br>\n",
    "<font color= 'orange'> Assignment 7: Class 11 <font>"
   ]
  },
  {
   "attachments": {},
   "cell_type": "markdown",
   "metadata": {},
   "source": [
    "\n"
   ]
  },
  {
   "attachments": {},
   "cell_type": "markdown",
   "metadata": {},
   "source": [
    "##### 1. **Probability Density Functions**\n",
    "- Statistical package to learn how to graph beta functions in an interval other than 0 and 1.\n",
    "\n",
    "The optimistic value is $\\mu_{o_p}$ = 49. <br>\n",
    "The pessimistic value is $\\mu_{p_w}$ = 40. <br>\n",
    "\n",
    "##### *Beta distribution*\n",
    "\n",
    "1. ¿What are the parameters of distribution $x \\sim \\text{B}(\\alpha, \\beta)$? <br>\n",
    "- Plot $f(x)$ and $F(x)$ with $\\alpha$ and $\\beta$. <br>\n",
    "- Probabilities for $f(x)$ and $F(x)$ for $\\alpha$ and $\\beta$. <br>\n",
    "\n",
    "##### *Triangular distribution*\n",
    "- Statistical package to learn how to graph triangular functions in an interval other than 0 and 1:\n",
    "\n",
    "\n",
    "1. ¿What is the probability $P(T)$?<br>\n",
    "2. Graph the triangular function on an interval [a,b], using the help.<br><br>"
   ]
  },
  {
   "attachments": {},
   "cell_type": "markdown",
   "metadata": {},
   "source": [
    "<span style='color:orange'> 1. Roberto Chávez Guerrero </span><br>"
   ]
  },
  {
   "cell_type": "code",
   "execution_count": 27,
   "metadata": {
    "ExecuteTime": {
     "end_time": "2021-10-22T07:52:57.545688Z",
     "start_time": "2021-10-22T07:52:57.214149Z"
    }
   },
   "outputs": [],
   "source": [
    "import matplotlib.pyplot as plt\n",
    "import numpy as np\n",
    "import pandas as pd\n",
    "import scipy.stats as st\n",
    "%matplotlib inline\n",
    "from scipy.optimize import fsolve"
   ]
  },
  {
   "cell_type": "code",
   "execution_count": 28,
   "metadata": {},
   "outputs": [
    {
     "name": "stdout",
     "output_type": "stream",
     "text": [
      "0.5432098765426324 0.6790123456783965\n"
     ]
    }
   ],
   "source": [
    "# This function is the system of equations\n",
    "def f1(p):\n",
    "    alpha,beta=p\n",
    "    return ((40*beta+49*alpha)/(alpha+beta)-44, (alpha*beta*(49-40)**2)/((alpha+beta)**2*(1+alpha+ beta))-9)\n",
    "\n",
    "# Attempt to solve the system of equations\n",
    "try:\n",
    "    alpha,beta = fsolve(f1, (44,9))\n",
    "    print(alpha,beta)\n",
    "except:\n",
    "    print(\"No solution found\")"
   ]
  },
  {
   "cell_type": "code",
   "execution_count": 29,
   "metadata": {
    "ExecuteTime": {
     "end_time": "2021-10-22T07:52:58.110242Z",
     "start_time": "2021-10-22T07:52:57.773169Z"
    }
   },
   "outputs": [
    {
     "data": {
      "image/png": "[encoded data removed]",
      "text/plain": [
       "<Figure size 1080x288 with 2 Axes>"
      ]
     },
     "metadata": {
      "needs_background": "light"
     },
     "output_type": "display_data"
    }
   ],
   "source": [
    "a=alpha\n",
    "b=beta\n",
    "x = np.linspace(40,49,100) #create a range of values for x\n",
    "r = st.beta.pdf(x,a,b,loc=40,scale=9) #create a range of values for y\n",
    "r_accum = st.beta.cdf(x,a,b,loc=40,scale=9) #create a range of values for y_acum\n",
    "fig,(ax1,ax2) = plt.subplots(1,2) #create a figure with 2 subplots\n",
    "fig.set_figwidth(15) #set the width of the figure\n",
    "ax1.plot(x,r,'o',markersize=3) #plot the first subplot\n",
    "ax1.set_title('Probability Density Function') #set the title of the first subplot\n",
    "ax2.plot(x,r_accum,'o',markersize=3) #plot the \n",
    "ax2.set_title('Cumulative Distribution') #set the title of the second subplot\n",
    "plt.show() #show the plot"
   ]
  },
  {
   "attachments": {},
   "cell_type": "markdown",
   "metadata": {},
   "source": [
    "Probabilities for $f(x)$ and $F(x)$ for $\\alpha$ and $\\beta$ arguments:"
   ]
  },
  {
   "cell_type": "code",
   "execution_count": 30,
   "metadata": {
    "ExecuteTime": {
     "end_time": "2021-10-22T07:52:58.565572Z",
     "start_time": "2021-10-22T07:52:58.549614Z"
    }
   },
   "outputs": [
    {
     "data": {
      "text/html": [
       "<div>\n",
       "<style scoped>\n",
       "    .dataframe tbody tr th:only-of-type {\n",
       "        vertical-align: middle;\n",
       "    }\n",
       "\n",
       "    .dataframe tbody tr th {\n",
       "        vertical-align: top;\n",
       "    }\n",
       "\n",
       "    .dataframe thead th {\n",
       "        text-align: right;\n",
       "    }\n",
       "</style>\n",
       "<table border=\"1\" class=\"dataframe\">\n",
       "  <thead>\n",
       "    <tr style=\"text-align: right;\">\n",
       "      <th></th>\n",
       "      <th>x</th>\n",
       "      <th>f(x)</th>\n",
       "      <th>F(x)</th>\n",
       "    </tr>\n",
       "  </thead>\n",
       "  <tbody>\n",
       "    <tr>\n",
       "      <th>0</th>\n",
       "      <td>40.0</td>\n",
       "      <td>inf</td>\n",
       "      <td>0.000000</td>\n",
       "    </tr>\n",
       "    <tr>\n",
       "      <th>1</th>\n",
       "      <td>41.0</td>\n",
       "      <td>0.131828</td>\n",
       "      <td>0.236753</td>\n",
       "    </tr>\n",
       "    <tr>\n",
       "      <th>2</th>\n",
       "      <td>42.0</td>\n",
       "      <td>0.100257</td>\n",
       "      <td>0.349942</td>\n",
       "    </tr>\n",
       "    <tr>\n",
       "      <th>3</th>\n",
       "      <td>43.0</td>\n",
       "      <td>0.087532</td>\n",
       "      <td>0.443050</td>\n",
       "    </tr>\n",
       "    <tr>\n",
       "      <th>4</th>\n",
       "      <td>44.0</td>\n",
       "      <td>0.081379</td>\n",
       "      <td>0.527128</td>\n",
       "    </tr>\n",
       "    <tr>\n",
       "      <th>5</th>\n",
       "      <td>45.0</td>\n",
       "      <td>0.078950</td>\n",
       "      <td>0.607029</td>\n",
       "    </tr>\n",
       "    <tr>\n",
       "      <th>6</th>\n",
       "      <td>46.0</td>\n",
       "      <td>0.079669</td>\n",
       "      <td>0.686062</td>\n",
       "    </tr>\n",
       "    <tr>\n",
       "      <th>7</th>\n",
       "      <td>47.0</td>\n",
       "      <td>0.084573</td>\n",
       "      <td>0.767725</td>\n",
       "    </tr>\n",
       "    <tr>\n",
       "      <th>8</th>\n",
       "      <td>48.0</td>\n",
       "      <td>0.099395</td>\n",
       "      <td>0.858283</td>\n",
       "    </tr>\n",
       "    <tr>\n",
       "      <th>9</th>\n",
       "      <td>49.0</td>\n",
       "      <td>inf</td>\n",
       "      <td>1.000000</td>\n",
       "    </tr>\n",
       "  </tbody>\n",
       "</table>\n",
       "</div>"
      ],
      "text/plain": [
       "      x      f(x)      F(x)\n",
       "0  40.0       inf  0.000000\n",
       "1  41.0  0.131828  0.236753\n",
       "2  42.0  0.100257  0.349942\n",
       "3  43.0  0.087532  0.443050\n",
       "4  44.0  0.081379  0.527128\n",
       "5  45.0  0.078950  0.607029\n",
       "6  46.0  0.079669  0.686062\n",
       "7  47.0  0.084573  0.767725\n",
       "8  48.0  0.099395  0.858283\n",
       "9  49.0       inf  1.000000"
      ]
     },
     "execution_count": 30,
     "metadata": {},
     "output_type": "execute_result"
    }
   ],
   "source": [
    "d = np.linspace(40,49,10)\n",
    "#Make a dataframe with the values of the distribution probabilities\n",
    "df = pd.DataFrame({'x':d, 'f(x)':st.beta.pdf(d,a,b,loc=40,scale=9), 'F(x)':st.beta.cdf(d,a,b,loc=40,scale=9),})\n",
    "df"
   ]
  },
  {
   "attachments": {},
   "cell_type": "markdown",
   "metadata": {},
   "source": [
    "Triangular Distribution"
   ]
  },
  {
   "cell_type": "code",
   "execution_count": 31,
   "metadata": {
    "ExecuteTime": {
     "end_time": "2021-10-22T07:52:59.611773Z",
     "start_time": "2021-10-22T07:52:59.324578Z"
    }
   },
   "outputs": [
    {
     "data": {
      "image/png": "[encoded data removed]",
      "text/plain": [
       "<Figure size 1080x288 with 2 Axes>"
      ]
     },
     "metadata": {
      "needs_background": "light"
     },
     "output_type": "display_data"
    }
   ],
   "source": [
    "c = .44\n",
    "x = np.linspace(40,49,100)\n",
    "r = st.triang.pdf(x,c,loc=40,scale=9)\n",
    "r_accum = st.triang.cdf(x,c,loc=40,scale=9)\n",
    "# graph\n",
    "fig,(ax1,ax2) = plt.subplots(1,2)\n",
    "fig.set_figwidth(15)\n",
    "ax1.plot(x,r,'o',markersize=3)\n",
    "ax1.set_title('Probability Density')\n",
    "ax2.plot(x,r_accum,'o',markersize=3)\n",
    "ax2.set_title('Cumulative Distribution')\n",
    "plt.show()"
   ]
  },
  {
   "cell_type": "markdown",
   "metadata": {},
   "source": [
    "Probability that $P(T\\leq d)$."
   ]
  },
  {
   "cell_type": "code",
   "execution_count": 32,
   "metadata": {
    "ExecuteTime": {
     "end_time": "2021-10-22T07:53:00.383716Z",
     "start_time": "2021-10-22T07:53:00.366761Z"
    }
   },
   "outputs": [
    {
     "data": {
      "text/html": [
       "<div>\n",
       "<style scoped>\n",
       "    .dataframe tbody tr th:only-of-type {\n",
       "        vertical-align: middle;\n",
       "    }\n",
       "\n",
       "    .dataframe tbody tr th {\n",
       "        vertical-align: top;\n",
       "    }\n",
       "\n",
       "    .dataframe thead th {\n",
       "        text-align: right;\n",
       "    }\n",
       "</style>\n",
       "<table border=\"1\" class=\"dataframe\">\n",
       "  <thead>\n",
       "    <tr style=\"text-align: right;\">\n",
       "      <th></th>\n",
       "      <th>x</th>\n",
       "      <th>f(x)</th>\n",
       "      <th>F(x)</th>\n",
       "    </tr>\n",
       "  </thead>\n",
       "  <tbody>\n",
       "    <tr>\n",
       "      <th>0</th>\n",
       "      <td>40.0</td>\n",
       "      <td>0.000000</td>\n",
       "      <td>0.000000</td>\n",
       "    </tr>\n",
       "    <tr>\n",
       "      <th>1</th>\n",
       "      <td>41.0</td>\n",
       "      <td>0.056117</td>\n",
       "      <td>0.028058</td>\n",
       "    </tr>\n",
       "    <tr>\n",
       "      <th>2</th>\n",
       "      <td>42.0</td>\n",
       "      <td>0.112233</td>\n",
       "      <td>0.112233</td>\n",
       "    </tr>\n",
       "    <tr>\n",
       "      <th>3</th>\n",
       "      <td>43.0</td>\n",
       "      <td>0.168350</td>\n",
       "      <td>0.252525</td>\n",
       "    </tr>\n",
       "    <tr>\n",
       "      <th>4</th>\n",
       "      <td>44.0</td>\n",
       "      <td>0.220459</td>\n",
       "      <td>0.448854</td>\n",
       "    </tr>\n",
       "    <tr>\n",
       "      <th>5</th>\n",
       "      <td>45.0</td>\n",
       "      <td>0.176367</td>\n",
       "      <td>0.647266</td>\n",
       "    </tr>\n",
       "    <tr>\n",
       "      <th>6</th>\n",
       "      <td>46.0</td>\n",
       "      <td>0.132275</td>\n",
       "      <td>0.801587</td>\n",
       "    </tr>\n",
       "    <tr>\n",
       "      <th>7</th>\n",
       "      <td>47.0</td>\n",
       "      <td>0.088183</td>\n",
       "      <td>0.911817</td>\n",
       "    </tr>\n",
       "    <tr>\n",
       "      <th>8</th>\n",
       "      <td>48.0</td>\n",
       "      <td>0.044092</td>\n",
       "      <td>0.977954</td>\n",
       "    </tr>\n",
       "    <tr>\n",
       "      <th>9</th>\n",
       "      <td>49.0</td>\n",
       "      <td>0.000000</td>\n",
       "      <td>1.000000</td>\n",
       "    </tr>\n",
       "  </tbody>\n",
       "</table>\n",
       "</div>"
      ],
      "text/plain": [
       "      x      f(x)      F(x)\n",
       "0  40.0  0.000000  0.000000\n",
       "1  41.0  0.056117  0.028058\n",
       "2  42.0  0.112233  0.112233\n",
       "3  43.0  0.168350  0.252525\n",
       "4  44.0  0.220459  0.448854\n",
       "5  45.0  0.176367  0.647266\n",
       "6  46.0  0.132275  0.801587\n",
       "7  47.0  0.088183  0.911817\n",
       "8  48.0  0.044092  0.977954\n",
       "9  49.0  0.000000  1.000000"
      ]
     },
     "execution_count": 32,
     "metadata": {},
     "output_type": "execute_result"
    }
   ],
   "source": [
    "d = np.linspace(40,49,10)\n",
    "#Make a dataframe with the values of the distribution probabilities\n",
    "df2 = pd.DataFrame({'x':d, 'f(x)':st.triang.pdf(d,c,loc=40,scale=9), 'F(x)':st.triang.cdf(d,c,loc=40,scale=9),})\n",
    "df2"
   ]
  },
  {
   "cell_type": "markdown",
   "metadata": {},
   "source": [
    "<span style='color:lightgreen'> 2. Esteban Márquez Delgado </span><br>"
   ]
  },
  {
   "attachments": {},
   "cell_type": "markdown",
   "metadata": {},
   "source": [
    "##### Crude Monte Carlo vs Monte Carlo Stratified Sampling.\n",
    "Report the results of the integral approximation using crude Monte Carlo vs stratified sampling, in a Dataframe. <br>\n",
    "\n",
    "$I=\\int_{0}^{1}x^2\\text{d}x=\\left.\\frac{x^3}{3}\\right|_{x=0}^{x=1 }=\\frac{1}{3}\\approx 0.33333$"
   ]
  },
  {
   "cell_type": "code",
   "execution_count": 33,
   "metadata": {},
   "outputs": [],
   "source": [
    "# solution code\n",
    "#Montecarlo integration function per se, based on random values.\n",
    "def int_montecarlo(f:'Function to integrate',\n",
    "                   a:'Lower limit of the integral',\n",
    "                   b:'Upper limit of the integral',\n",
    "                   U:'Sample of numbers U~[a,b]'):\n",
    "    return (b-a)/len(U)*np.sum(f(U))\n",
    "\n",
    "def stratification(B: 'N strata to create'):\n",
    "    '''Function that receives and creates N number of strata for the stratification method:\n",
    "    Divide the population into strata and generate a number of observations in each.\n",
    "    proportional to its size (to the probability of each one) in order to ensure that\n",
    "    domain is covered and convergence is accelerated.\n",
    "   '''\n",
    "    u= np.random.uniform(a,b,B) #generate B random values ​​with uniform distribution on interval [a,b]\n",
    "    i=np.arange(0,B) # variable iterable over the n layers created\n",
    "    v = (u+i)/B #stratification\n",
    "    return v"
   ]
  },
  {
   "cell_type": "code",
   "execution_count": 34,
   "metadata": {},
   "outputs": [
    {
     "data": {
      "text/html": [
       "<div>\n",
       "<style scoped>\n",
       "    .dataframe tbody tr th:only-of-type {\n",
       "        vertical-align: middle;\n",
       "    }\n",
       "\n",
       "    .dataframe tbody tr th {\n",
       "        vertical-align: top;\n",
       "    }\n",
       "\n",
       "    .dataframe thead th {\n",
       "        text-align: right;\n",
       "    }\n",
       "</style>\n",
       "<table border=\"1\" class=\"dataframe\">\n",
       "  <thead>\n",
       "    <tr style=\"text-align: right;\">\n",
       "      <th></th>\n",
       "      <th>Crude Monte Carlo</th>\n",
       "      <th>Relative MC_Error %</th>\n",
       "      <th>Stratified Sampling</th>\n",
       "      <th>Relative_error M_est %</th>\n",
       "    </tr>\n",
       "    <tr>\n",
       "      <th>Terms</th>\n",
       "      <th></th>\n",
       "      <th></th>\n",
       "      <th></th>\n",
       "      <th></th>\n",
       "    </tr>\n",
       "  </thead>\n",
       "  <tbody>\n",
       "    <tr>\n",
       "      <th>10</th>\n",
       "      <td>0.400681</td>\n",
       "      <td>20.204299</td>\n",
       "      <td>0.328372</td>\n",
       "      <td>1.488438e+00</td>\n",
       "    </tr>\n",
       "    <tr>\n",
       "      <th>100</th>\n",
       "      <td>0.279583</td>\n",
       "      <td>16.125114</td>\n",
       "      <td>0.333019</td>\n",
       "      <td>9.429964e-02</td>\n",
       "    </tr>\n",
       "    <tr>\n",
       "      <th>1000</th>\n",
       "      <td>0.330221</td>\n",
       "      <td>0.933682</td>\n",
       "      <td>0.333329</td>\n",
       "      <td>1.334418e-03</td>\n",
       "    </tr>\n",
       "    <tr>\n",
       "      <th>10000</th>\n",
       "      <td>0.331126</td>\n",
       "      <td>0.662169</td>\n",
       "      <td>0.333333</td>\n",
       "      <td>2.202938e-05</td>\n",
       "    </tr>\n",
       "    <tr>\n",
       "      <th>100000</th>\n",
       "      <td>0.334561</td>\n",
       "      <td>0.368347</td>\n",
       "      <td>0.333333</td>\n",
       "      <td>5.670238e-06</td>\n",
       "    </tr>\n",
       "    <tr>\n",
       "      <th>1000000</th>\n",
       "      <td>0.333507</td>\n",
       "      <td>0.052224</td>\n",
       "      <td>0.333333</td>\n",
       "      <td>9.423226e-08</td>\n",
       "    </tr>\n",
       "    <tr>\n",
       "      <th>10000000</th>\n",
       "      <td>0.333314</td>\n",
       "      <td>0.005845</td>\n",
       "      <td>0.333333</td>\n",
       "      <td>4.297646e-09</td>\n",
       "    </tr>\n",
       "  </tbody>\n",
       "</table>\n",
       "</div>"
      ],
      "text/plain": [
       "          Crude Monte Carlo  Relative MC_Error %  Stratified Sampling  \\\n",
       "Terms                                                                   \n",
       "10                 0.400681            20.204299             0.328372   \n",
       "100                0.279583            16.125114             0.333019   \n",
       "1000               0.330221             0.933682             0.333329   \n",
       "10000              0.331126             0.662169             0.333333   \n",
       "100000             0.334561             0.368347             0.333333   \n",
       "1000000            0.333507             0.052224             0.333333   \n",
       "10000000           0.333314             0.005845             0.333333   \n",
       "\n",
       "          Relative_error M_est %  \n",
       "Terms                             \n",
       "10                  1.488438e+00  \n",
       "100                 9.429964e-02  \n",
       "1000                1.334418e-03  \n",
       "10000               2.202938e-05  \n",
       "100000              5.670238e-06  \n",
       "1000000             9.423226e-08  \n",
       "10000000            4.297646e-09  "
      ]
     },
     "execution_count": 34,
     "metadata": {},
     "output_type": "execute_result"
    }
   ],
   "source": [
    "#Montecarlo integration function per se, based on random values.\n",
    "def int_montecarlo(f:'Function to integrate',\n",
    "                   a:'Lower limit of the integral',\n",
    "                   b:'Upper limit of the integral',\n",
    "                   U:'Sample of numbers U~[a,b]'):\n",
    "    return (b-a)/len(U)*np.sum(f(U))\n",
    "\n",
    "def stratification(B: 'N strata to create',\n",
    "                   a:'Lower limit of the integral',\n",
    "                   b:'Upper limit of the integral'):\n",
    "    '''Function that receives and creates N number of strata for the stratification method:\n",
    "    Divide the population into strata and generate a number of observations in each.\n",
    "    proportional to its probability in order to ensure tha domain is covered and convergence is accelerated.\n",
    "   '''\n",
    "    u= np.random.uniform(a,b,B) #generate B random values ​​with uniform distribution on interval [a,b]\n",
    "    i=np.arange(0,B) # variable iterable over the n layers created\n",
    "    v = (u+i)/B #stratification\n",
    "    return v\n",
    "\n",
    "I = 1/3 # Result of the integral\n",
    "a,b = 0,1 #Integration interval\n",
    "N = np.logspace(1,7,7,dtype=int) # N terms, in logarithmic scale (1, 10, 100, 1000, …, instead of 0, 1, 2, 3)\n",
    "df_cv = pd.DataFrame(index=N,columns=['Crude Monte Carlo', 'Relative MC_Error %', 'Stratified Sampling',\n",
    "                                      'Relative_error M_est %' ], dtype='float') # Creation of DataFrame columns\n",
    "df_cv.index.name = \"Terms\" #Name df index.\n",
    "# Random numbers dependent on the number of terms N.\n",
    "u1 = list(map(lambda N:np.random.uniform(a,b,N),N)) #Random numbers for the montecarlo method.\n",
    "u2 = list(map(lambda N:stratification(N,a,b),N)) #Random numbers for the stratification method.\n",
    "M = [int_montecarlo(lambda x:x**2, a, b, Y) for Y in u1] #Application of the MonteCarlo method for the u1 generated numbers.\n",
    "EST = [int_montecarlo(lambda x:x**2, a, b, Y) for Y in u2] #Application of the MonteCarlo method for the u2 stratified variables.\n",
    "df_cv.loc[N,\"Crude Monte Carlo\"] = M #Raw Monte Carlo method on DataFrame over N terms.\n",
    "df_cv.loc[N,\"Relative MC_Error %\"] = np.abs(df_cv.loc[N,\"Crude Monte Carlo\"]-I)*100/I #Relative error of the Monte Carlo method\n",
    "df_cv.loc[N,\"Stratified Sampling\"] = EST #Stratification Method\n",
    "df_cv.loc[N,\"Relative_error M_est %\"] = np.abs(df_cv.loc[N,\"Stratified Sampling\"]-I)*100/I #Relative error of the stratification method\n",
    "df_cv\n",
    "\n"
   ]
  },
  {
   "cell_type": "code",
   "execution_count": 35,
   "metadata": {},
   "outputs": [
    {
     "data": {
      "image/png": "[encoded data removed]",
      "text/plain": [
       "<Figure size 432x288 with 1 Axes>"
      ]
     },
     "metadata": {
      "needs_background": "light"
     },
     "output_type": "display_data"
    }
   ],
   "source": [
    "plt.xscale('log')\n",
    "plt.plot(df_cv.index,df_cv['Crude Monte Carlo'],marker='o',linestyle='--')\n",
    "plt.plot(df_cv.index,df_cv['Stratified Sampling'],marker='o',linestyle='--')\n",
    "plt.legend(['Crude Monte Carlo','Stratified Sampling'])\n",
    "plt.show()"
   ]
  },
  {
   "attachments": {},
   "cell_type": "markdown",
   "metadata": {},
   "source": [
    "As we an see, stratified sampling divides is faster because it divides the population into strata and generates a number of observations proportional to their probability of occurrence. <br>\n",
    "We can also note that this process has a lower computational load and makes processes more efficient."
   ]
  }
 ],
 "metadata": {
  "kernelspec": {
   "display_name": "Python 3",
   "language": "python",
   "name": "python3"
  },
  "language_info": {
   "codemirror_mode": {
    "name": "ipython",
    "version": 3
   },
   "file_extension": ".py",
   "mimetype": "text/x-python",
   "name": "python",
   "nbconvert_exporter": "python",
   "pygments_lexer": "ipython3",
   "version": "3.8.13"
  },
  "latex_envs": {
   "LaTeX_envs_menu_present": true,
   "autoclose": false,
   "autocomplete": true,
   "bibliofile": "biblio.bib",
   "cite_by": "apalike",
   "current_citInitial": 1,
   "eqLabelWithNumbers": true,
   "eqNumInitial": 1,
   "hotkeys": {
    "equation": "Ctrl-E",
    "itemize": "Ctrl-I"
   },
   "labels_anchors": false,
   "latex_user_defs": false,
   "report_style_numbering": false,
   "user_envs_cfg": false
  }
 },
 "nbformat": 4,
 "nbformat_minor": 4
}
